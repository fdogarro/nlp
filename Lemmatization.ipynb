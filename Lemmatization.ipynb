{
 "cells": [
  {
   "cell_type": "code",
   "execution_count": 1,
   "metadata": {},
   "outputs": [],
   "source": [
    "import spacy"
   ]
  },
  {
   "cell_type": "code",
   "execution_count": 2,
   "metadata": {},
   "outputs": [],
   "source": [
    "nlp = spacy.load('en_core_web_sm')"
   ]
  },
  {
   "cell_type": "code",
   "execution_count": 7,
   "metadata": {},
   "outputs": [],
   "source": [
    "doc1 = nlp(u\"I am a programmer who uses different programming languages to program, ran, run, runner\")"
   ]
  },
  {
   "cell_type": "code",
   "execution_count": 8,
   "metadata": {},
   "outputs": [
    {
     "name": "stdout",
     "output_type": "stream",
     "text": [
      "I PRON 561228191312463089 -PRON-\n",
      "am VERB 10382539506755952630 be\n",
      "a DET 11901859001352538922 a\n",
      "programmer NOUN 5660892888087860823 programmer\n",
      "who PRON 3876862883474502309 who\n",
      "uses VERB 6873750497785110593 use\n",
      "different ADJ 17379251038783395147 different\n",
      "programming NOUN 17860067660221736314 programming\n",
      "languages NOUN 8740476009882919263 language\n",
      "to ADP 3791531372978436496 to\n",
      "program NOUN 17812688126189747487 program\n",
      ", PUNCT 2593208677638477497 ,\n",
      "ran VERB 12767647472892411841 run\n",
      ", PUNCT 2593208677638477497 ,\n",
      "run VERB 12767647472892411841 run\n",
      ", PUNCT 2593208677638477497 ,\n",
      "runner NOUN 12640964157389618806 runner\n"
     ]
    }
   ],
   "source": [
    "for token in doc1:\n",
    "    print(token.text, token.pos_, token.lemma, token.lemma_)"
   ]
  },
  {
   "cell_type": "code",
   "execution_count": null,
   "metadata": {},
   "outputs": [],
   "source": []
  }
 ],
 "metadata": {
  "kernelspec": {
   "display_name": "Python 3",
   "language": "python",
   "name": "python3"
  },
  "language_info": {
   "codemirror_mode": {
    "name": "ipython",
    "version": 3
   },
   "file_extension": ".py",
   "mimetype": "text/x-python",
   "name": "python",
   "nbconvert_exporter": "python",
   "pygments_lexer": "ipython3",
   "version": "3.6.2"
  }
 },
 "nbformat": 4,
 "nbformat_minor": 2
}
