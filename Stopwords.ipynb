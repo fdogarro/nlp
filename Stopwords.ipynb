{
 "cells": [
  {
   "cell_type": "code",
   "execution_count": 1,
   "metadata": {},
   "outputs": [],
   "source": [
    "import spacy"
   ]
  },
  {
   "cell_type": "code",
   "execution_count": 2,
   "metadata": {},
   "outputs": [],
   "source": [
    "nlp = spacy.load('en_core_web_sm')"
   ]
  },
  {
   "cell_type": "code",
   "execution_count": 3,
   "metadata": {},
   "outputs": [
    {
     "name": "stdout",
     "output_type": "stream",
     "text": [
      "{'your', 'for', 'seem', 'few', 'besides', 'formerly', 'nowhere', 'she', 'somewhere', 'anyway', 'sixty', 'you', '’ll', 'anyone', 'have', 'various', 'made', 'sometimes', 'above', 'what', 'would', 'mostly', 'about', 'three', 'only', 'along', 'well', 'when', 'over', 'several', \"'m\", 'of', 'amount', 'afterwards', 'thereupon', 'whole', '‘m', 'moreover', 'together', '’m', 'whose', 'throughout', 'towards', 'will', '’re', \"n't\", 'within', 'former', 'in', 'so', 'yourself', 'ourselves', 'become', 'did', 'put', 'once', 'n‘t', 'full', 'else', 'neither', 'thereby', 'up', 'from', 'am', 'upon', 'amongst', 'get', 'it', 'there', 'every', 'yours', 'had', 'everyone', 'cannot', 'however', 'nevertheless', 'nine', 'six', 'twelve', 'his', 'yourselves', 'without', 'whom', \"'d\", 'thus', 'enough', '‘re', 'itself', 'doing', 'hence', 'done', 'least', 'always', 'became', 'not', 'rather', 'may', 'beyond', 'show', 'latterly', 'as', 'almost', 'since', '‘d', '’ve', 'my', 'back', 'is', 'latter', 'next', 'still', 'off', 'this', 'becoming', 'used', '’d', \"'s\", 'ca', 'very', 'perhaps', '’s', 'by', 'top', 'mine', 'those', 'another', 'among', 'much', 'empty', 'an', 'hereafter', 'using', 'being', 'some', 'they', 'was', 'at', 'whereas', 'with', \"'ll\", 'twenty', 'seemed', 'whatever', 'becomes', 'wherein', 'someone', 'been', 'its', 'none', 'other', 'seeming', 'he', 'such', 'behind', 'make', 'herself', 'or', 'somehow', 'themselves', 'therefore', 'alone', 'no', 'across', 'himself', 'nobody', 'which', 'ours', 'regarding', 'via', 'anywhere', 'a', 'per', 'serious', 'please', 'whereafter', 'often', 'others', 'now', 'before', 'him', 'their', 'onto', 'keep', 'through', 'whether', 'nothing', 'during', 'we', 'and', \"'re\", 'just', 'beforehand', 'below', 'namely', 'against', 'both', 'two', 'bottom', 'toward', 'say', 'me', 'side', 'whither', 'either', 'except', 'all', 'but', 'go', 'sometime', 'are', 'eight', 'already', 'fifty', 're', 'until', 'unless', 'who', 'does', 'again', 'everything', 'many', 'quite', 'under', 'nor', 'do', 'more', 'also', 'be', 'might', 'if', 'though', 'give', 'last', 'front', 'although', 'thence', 'n’t', 'into', 'beside', 'whence', 'hers', 'hereupon', 'thereafter', 'these', 'whereby', 'further', 'first', 'must', 'wherever', 'therein', 'because', 'forty', 'indeed', 'our', 'seems', 'something', 'how', 'out', 'that', 'then', 'four', 'i', '‘ll', 'never', 'thru', 'between', 'hundred', 'really', 'take', 'elsewhere', \"'ve\", 'even', 'otherwise', 'see', 'anything', 'why', 'whenever', 'third', 'the', 'around', 'after', 'has', 'meanwhile', 'herein', 'noone', 'same', 'were', 'fifteen', 'whoever', 'where', 'whereupon', 'call', 'ten', 'ever', '‘ve', 'here', 'to', 'anyhow', 'could', 'one', 'most', 'her', 'part', 'should', 'than', 'myself', 'five', 'yet', 'everywhere', 'hereby', 'on', '‘s', 'less', 'eleven', 'any', 'name', 'too', 'while', 'each', 'due', 'move', 'own', 'down', 'them', 'can', 'us'}\n"
     ]
    }
   ],
   "source": [
    "print(nlp.Defaults.stop_words)"
   ]
  },
  {
   "cell_type": "code",
   "execution_count": 4,
   "metadata": {},
   "outputs": [
    {
     "data": {
      "text/plain": [
       "326"
      ]
     },
     "execution_count": 4,
     "metadata": {},
     "output_type": "execute_result"
    }
   ],
   "source": [
    "len(nlp.Defaults.stop_words)"
   ]
  },
  {
   "cell_type": "code",
   "execution_count": 5,
   "metadata": {},
   "outputs": [
    {
     "data": {
      "text/plain": [
       "False"
      ]
     },
     "execution_count": 5,
     "metadata": {},
     "output_type": "execute_result"
    }
   ],
   "source": [
    "nlp.vocab['excel'].is_stop"
   ]
  },
  {
   "cell_type": "code",
   "execution_count": 9,
   "metadata": {},
   "outputs": [],
   "source": [
    "def checkStopWord(word):\n",
    "    word1 = nlp.vocab[word].is_stop\n",
    "    if(word1 == True):\n",
    "        print(\"Stopword\")\n",
    "    else:\n",
    "        print(\"Not a Stopword\")"
   ]
  },
  {
   "cell_type": "code",
   "execution_count": 11,
   "metadata": {},
   "outputs": [
    {
     "name": "stdout",
     "output_type": "stream",
     "text": [
      "Not a Stopword\n"
     ]
    }
   ],
   "source": [
    "checkStopWord('maintain')"
   ]
  },
  {
   "cell_type": "code",
   "execution_count": 12,
   "metadata": {},
   "outputs": [],
   "source": [
    "def addStopWord(word):\n",
    "    nlp.Defaults.stop_words.add(word)\n",
    "    result = checkStopWord(word)\n",
    "    return result"
   ]
  },
  {
   "cell_type": "code",
   "execution_count": 14,
   "metadata": {},
   "outputs": [
    {
     "name": "stdout",
     "output_type": "stream",
     "text": [
      "Not a Stopword\n"
     ]
    }
   ],
   "source": [
    "addStopWord('maintain')"
   ]
  },
  {
   "cell_type": "code",
   "execution_count": 15,
   "metadata": {},
   "outputs": [],
   "source": [
    "nlp.Defaults.stop_words.add('maintain')"
   ]
  },
  {
   "cell_type": "code",
   "execution_count": 16,
   "metadata": {},
   "outputs": [
    {
     "data": {
      "text/plain": [
       "False"
      ]
     },
     "execution_count": 16,
     "metadata": {},
     "output_type": "execute_result"
    }
   ],
   "source": [
    "nlp.vocab['maintain'].is_stop"
   ]
  },
  {
   "cell_type": "code",
   "execution_count": 17,
   "metadata": {},
   "outputs": [
    {
     "data": {
      "text/plain": [
       "327"
      ]
     },
     "execution_count": 17,
     "metadata": {},
     "output_type": "execute_result"
    }
   ],
   "source": [
    "len(nlp.Defaults.stop_words)"
   ]
  },
  {
   "cell_type": "code",
   "execution_count": 18,
   "metadata": {},
   "outputs": [],
   "source": [
    "nlp.Defaults.stop_words.remove('somewhere')"
   ]
  },
  {
   "cell_type": "code",
   "execution_count": 19,
   "metadata": {},
   "outputs": [],
   "source": [
    "nlp.vocab['somewhere'].is_stop = False"
   ]
  },
  {
   "cell_type": "code",
   "execution_count": 20,
   "metadata": {},
   "outputs": [
    {
     "data": {
      "text/plain": [
       "326"
      ]
     },
     "execution_count": 20,
     "metadata": {},
     "output_type": "execute_result"
    }
   ],
   "source": [
    "len(nlp.Defaults.stop_words)"
   ]
  },
  {
   "cell_type": "code",
   "execution_count": 21,
   "metadata": {},
   "outputs": [
    {
     "data": {
      "text/plain": [
       "False"
      ]
     },
     "execution_count": 21,
     "metadata": {},
     "output_type": "execute_result"
    }
   ],
   "source": [
    "nlp.vocab['somewhere'].is_stop"
   ]
  },
  {
   "cell_type": "code",
   "execution_count": null,
   "metadata": {},
   "outputs": [],
   "source": []
  }
 ],
 "metadata": {
  "kernelspec": {
   "display_name": "Python 3",
   "language": "python",
   "name": "python3"
  },
  "language_info": {
   "codemirror_mode": {
    "name": "ipython",
    "version": 3
   },
   "file_extension": ".py",
   "mimetype": "text/x-python",
   "name": "python",
   "nbconvert_exporter": "python",
   "pygments_lexer": "ipython3",
   "version": "3.6.2"
  }
 },
 "nbformat": 4,
 "nbformat_minor": 2
}
