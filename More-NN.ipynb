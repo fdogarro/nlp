{
 "cells": [
  {
   "cell_type": "code",
   "execution_count": 1,
   "metadata": {},
   "outputs": [],
   "source": [
    "#dense connects each input to output layer\n",
    "# activation is non-linear function\n",
    "# different layers form different transformations on their inputs \n",
    "\n",
    "#CNN does work with images \n",
    "#RNN does work with text and timeseries data\n",
    "#input shape should be specified for the first layer"
   ]
  },
  {
   "cell_type": "code",
   "execution_count": null,
   "metadata": {},
   "outputs": [],
   "source": [
    "A = sigmoid(w)                                  \n",
    "cost = - (1 / m) * np.sum(np.multiply(Y, np.log(A)) + np.multiply(1 - Y, np.log(1 - A)))"
   ]
  },
  {
   "cell_type": "code",
   "execution_count": 2,
   "metadata": {},
   "outputs": [],
   "source": [
    "#Sigmoid takes in an input and if the number is \n",
    "#if input is a negative number Sigmoid will transform the input to 0\n",
    "# if number is 0 will be transform to a number between 0 and 1\n",
    "# In an artificial neural network the activation func of a neuron defines the output of that neuron given a set of inputs\n",
    "# Biologically inspired by activity in our brains where different neurons fire or are activated by different stimuli\n",
    "# the more closer to 1 the more activated and zero less activated "
   ]
  },
  {
   "cell_type": "code",
   "execution_count": 3,
   "metadata": {},
   "outputs": [],
   "source": [
    "#SGD - assigns different weights\n",
    "# during training weights continue to update\n",
    "# when model is first initialized set with arbitrary weights"
   ]
  },
  {
   "cell_type": "code",
   "execution_count": 4,
   "metadata": {},
   "outputs": [],
   "source": [
    "#model computes the gradient of the loss function d(loss) / d(weight)\n",
    "#gradient deriative of a func with several variables"
   ]
  },
  {
   "cell_type": "code",
   "execution_count": 5,
   "metadata": {},
   "outputs": [
    {
     "name": "stderr",
     "output_type": "stream",
     "text": [
      "Using TensorFlow backend.\n"
     ]
    }
   ],
   "source": [
    "import keras\n",
    "from keras import backend as K\n",
    "from keras.models import Sequential\n",
    "from keras.layers import Activation \n",
    "from keras.layers.core import Dense \n",
    "from keras.optimizers import Adam\n",
    "from keras.metrics import categorical_crossentropy"
   ]
  },
  {
   "cell_type": "code",
   "execution_count": 6,
   "metadata": {},
   "outputs": [
    {
     "name": "stdout",
     "output_type": "stream",
     "text": [
      "WARNING:tensorflow:From /Library/Frameworks/Python.framework/Versions/3.6/lib/python3.6/site-packages/tensorflow/python/framework/op_def_library.py:263: colocate_with (from tensorflow.python.framework.ops) is deprecated and will be removed in a future version.\n",
      "Instructions for updating:\n",
      "Colocations handled automatically by placer.\n"
     ]
    }
   ],
   "source": [
    "model = Sequential([\n",
    "    Dense(16, input_shape=(1,), activation='relu'),\n",
    "    Dense(32, activation='relu'),\n",
    "    Dense(2, activation='softmax')\n",
    "])"
   ]
  },
  {
   "cell_type": "code",
   "execution_count": 7,
   "metadata": {},
   "outputs": [],
   "source": [
    "# Gradient x by learning rate"
   ]
  },
  {
   "cell_type": "code",
   "execution_count": 8,
   "metadata": {},
   "outputs": [],
   "source": [
    "#Zero Padding \n",
    "\n",
    "#n x n image\n",
    "# f x f filter\n",
    "\n",
    "#input 4 x 4 filter 3 x 3 Output 2 x 2 \n",
    "\n",
    "#output size (n-f + 1) x (n - f + 1 )\n",
    "# = (4-3 + 1) x ( 4-3 + 1)\n",
    "#= 2 x 2\n",
    "\n",
    "# zero padding will allow you to maintain the input size"
   ]
  },
  {
   "cell_type": "code",
   "execution_count": null,
   "metadata": {},
   "outputs": [],
   "source": [
    "# SGD - stochastic gradient descent"
   ]
  }
 ],
 "metadata": {
  "kernelspec": {
   "display_name": "Python 3",
   "language": "python",
   "name": "python3"
  },
  "language_info": {
   "codemirror_mode": {
    "name": "ipython",
    "version": 3
   },
   "file_extension": ".py",
   "mimetype": "text/x-python",
   "name": "python",
   "nbconvert_exporter": "python",
   "pygments_lexer": "ipython3",
   "version": "3.6.2"
  }
 },
 "nbformat": 4,
 "nbformat_minor": 2
}
